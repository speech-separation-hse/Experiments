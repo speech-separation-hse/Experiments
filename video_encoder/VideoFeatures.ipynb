{
 "cells": [
  {
   "cell_type": "code",
   "execution_count": 101,
   "metadata": {},
   "outputs": [],
   "source": [
    "import torch\n",
    "from torch import nn\n",
    "import torch.nn.functional as F"
   ]
  },
  {
   "cell_type": "code",
   "execution_count": 2,
   "metadata": {},
   "outputs": [],
   "source": [
    "vf = torch.rand(1, 2, 50, 512)"
   ]
  },
  {
   "cell_type": "code",
   "execution_count": 3,
   "metadata": {},
   "outputs": [
    {
     "data": {
      "text/plain": [
       "torch.Size([1, 2, 50, 512])"
      ]
     },
     "execution_count": 3,
     "metadata": {},
     "output_type": "execute_result"
    }
   ],
   "source": [
    "vf.shape"
   ]
  },
  {
   "cell_type": "markdown",
   "metadata": {},
   "source": [
    "1, 50, 512 * 2"
   ]
  },
  {
   "cell_type": "code",
   "execution_count": 4,
   "metadata": {},
   "outputs": [],
   "source": [
    "vf = vf.transpose(1, 2)"
   ]
  },
  {
   "cell_type": "code",
   "execution_count": 5,
   "metadata": {},
   "outputs": [
    {
     "data": {
      "text/plain": [
       "torch.Size([1, 50, 2, 512])"
      ]
     },
     "execution_count": 5,
     "metadata": {},
     "output_type": "execute_result"
    }
   ],
   "source": [
    "vf.shape"
   ]
  },
  {
   "cell_type": "code",
   "execution_count": 6,
   "metadata": {},
   "outputs": [],
   "source": [
    "vf = vf.flatten(start_dim=2).transpose(2, 1)"
   ]
  },
  {
   "cell_type": "code",
   "execution_count": 7,
   "metadata": {},
   "outputs": [
    {
     "data": {
      "text/plain": [
       "torch.Size([1, 1024, 50])"
      ]
     },
     "execution_count": 7,
     "metadata": {},
     "output_type": "execute_result"
    }
   ],
   "source": [
    "vf.shape\n",
    "# batch_size x lips_embeddings_dim * 2 x seconds * fps"
   ]
  },
  {
   "cell_type": "code",
   "execution_count": 94,
   "metadata": {},
   "outputs": [],
   "source": [
    "class VideoEncoderBlock(nn.Module):\n",
    "    def __init__(self, in_channels, kernel_size, out_channels=None, use_separable_depthwise=True):\n",
    "        super().__init__()\n",
    "        groups = in_channels if use_separable_depthwise else 1\n",
    "        if not out_channels:\n",
    "            out_channels = in_channels\n",
    "        self.conv = nn.Conv1d(in_channels=in_channels, out_channels=out_channels, kernel_size=kernel_size, groups=groups, padding=1)\n",
    "        self.relu = nn.ReLU()\n",
    "        self.norm = nn.BatchNorm1d(out_channels)\n",
    "        \n",
    "    def forward(self, x):\n",
    "        x = self.conv(x)\n",
    "        x = self.relu(x)\n",
    "        x = self.norm(x)\n",
    "        return x"
   ]
  },
  {
   "cell_type": "code",
   "execution_count": 96,
   "metadata": {},
   "outputs": [],
   "source": [
    "video_encoder = nn.Sequential(\n",
    "                            *[VideoEncoderBlock(1024, 3, use_separable_depthwise=True) for _ in range(5)], \n",
    "                            VideoEncoderBlock(1024, 3, out_channels=256, use_separable_depthwise=False))"
   ]
  },
  {
   "cell_type": "code",
   "execution_count": 97,
   "metadata": {},
   "outputs": [],
   "source": [
    "out = video_encoder(vf)"
   ]
  },
  {
   "cell_type": "code",
   "execution_count": 98,
   "metadata": {},
   "outputs": [
    {
     "data": {
      "text/plain": [
       "torch.Size([1, 256, 50])"
      ]
     },
     "execution_count": 98,
     "metadata": {},
     "output_type": "execute_result"
    }
   ],
   "source": [
    "out.shape"
   ]
  },
  {
   "cell_type": "code",
   "execution_count": 99,
   "metadata": {},
   "outputs": [],
   "source": [
    "from modelsummary import summary"
   ]
  },
  {
   "cell_type": "code",
   "execution_count": 100,
   "metadata": {},
   "outputs": [
    {
     "name": "stdout",
     "output_type": "stream",
     "text": [
      "-----------------------------------------------------------------------\n",
      "             Layer (type)                Input Shape         Param #\n",
      "=======================================================================\n",
      "      VideoEncoderBlock-1             [-1, 1024, 50]               0\n",
      "                 Conv1d-2             [-1, 1024, 50]           4,096\n",
      "                   ReLU-3             [-1, 1024, 50]               0\n",
      "            BatchNorm1d-4             [-1, 1024, 50]           2,048\n",
      "      VideoEncoderBlock-5             [-1, 1024, 50]               0\n",
      "                 Conv1d-6             [-1, 1024, 50]           4,096\n",
      "                   ReLU-7             [-1, 1024, 50]               0\n",
      "            BatchNorm1d-8             [-1, 1024, 50]           2,048\n",
      "      VideoEncoderBlock-9             [-1, 1024, 50]               0\n",
      "                Conv1d-10             [-1, 1024, 50]           4,096\n",
      "                  ReLU-11             [-1, 1024, 50]               0\n",
      "           BatchNorm1d-12             [-1, 1024, 50]           2,048\n",
      "     VideoEncoderBlock-13             [-1, 1024, 50]               0\n",
      "                Conv1d-14             [-1, 1024, 50]           4,096\n",
      "                  ReLU-15             [-1, 1024, 50]               0\n",
      "           BatchNorm1d-16             [-1, 1024, 50]           2,048\n",
      "     VideoEncoderBlock-17             [-1, 1024, 50]               0\n",
      "                Conv1d-18             [-1, 1024, 50]           4,096\n",
      "                  ReLU-19             [-1, 1024, 50]               0\n",
      "           BatchNorm1d-20             [-1, 1024, 50]           2,048\n",
      "     VideoEncoderBlock-21             [-1, 1024, 50]               0\n",
      "                Conv1d-22             [-1, 1024, 50]         786,688\n",
      "                  ReLU-23              [-1, 256, 50]               0\n",
      "           BatchNorm1d-24              [-1, 256, 50]             512\n",
      "=======================================================================\n",
      "Total params: 817,920\n",
      "Trainable params: 817,920\n",
      "Non-trainable params: 0\n",
      "-----------------------------------------------------------------------\n"
     ]
    }
   ],
   "source": [
    "summary(video_encoder, vf)"
   ]
  },
  {
   "cell_type": "code",
   "execution_count": 93,
   "metadata": {},
   "outputs": [
    {
     "name": "stdout",
     "output_type": "stream",
     "text": [
      "-----------------------------------------------------------------------\n",
      "             Layer (type)                Input Shape         Param #\n",
      "=======================================================================\n",
      "      VideoEncoderBlock-1             [-1, 1024, 50]               0\n",
      "                 Conv1d-2             [-1, 1024, 50]       3,146,752\n",
      "                   ReLU-3             [-1, 1024, 50]               0\n",
      "            BatchNorm1d-4             [-1, 1024, 50]           2,048\n",
      "      VideoEncoderBlock-5             [-1, 1024, 50]               0\n",
      "                 Conv1d-6             [-1, 1024, 50]       3,146,752\n",
      "                   ReLU-7             [-1, 1024, 50]               0\n",
      "            BatchNorm1d-8             [-1, 1024, 50]           2,048\n",
      "      VideoEncoderBlock-9             [-1, 1024, 50]               0\n",
      "                Conv1d-10             [-1, 1024, 50]       3,146,752\n",
      "                  ReLU-11             [-1, 1024, 50]               0\n",
      "           BatchNorm1d-12             [-1, 1024, 50]           2,048\n",
      "     VideoEncoderBlock-13             [-1, 1024, 50]               0\n",
      "                Conv1d-14             [-1, 1024, 50]       3,146,752\n",
      "                  ReLU-15             [-1, 1024, 50]               0\n",
      "           BatchNorm1d-16             [-1, 1024, 50]           2,048\n",
      "     VideoEncoderBlock-17             [-1, 1024, 50]               0\n",
      "                Conv1d-18             [-1, 1024, 50]       3,146,752\n",
      "                  ReLU-19             [-1, 1024, 50]               0\n",
      "           BatchNorm1d-20             [-1, 1024, 50]           2,048\n",
      "     VideoEncoderBlock-21             [-1, 1024, 50]               0\n",
      "                Conv1d-22             [-1, 1024, 50]         786,688\n",
      "                  ReLU-23              [-1, 256, 50]               0\n",
      "           BatchNorm1d-24              [-1, 256, 50]             512\n",
      "=======================================================================\n",
      "Total params: 16,531,200\n",
      "Trainable params: 16,531,200\n",
      "Non-trainable params: 0\n",
      "-----------------------------------------------------------------------\n"
     ]
    }
   ],
   "source": [
    "summary(video_encoder, vf)"
   ]
  },
  {
   "cell_type": "code",
   "execution_count": 102,
   "metadata": {},
   "outputs": [
    {
     "data": {
      "text/plain": [
       "torch.Size([1, 256, 50])"
      ]
     },
     "execution_count": 102,
     "metadata": {},
     "output_type": "execute_result"
    }
   ],
   "source": [
    "out.shape"
   ]
  },
  {
   "cell_type": "markdown",
   "metadata": {},
   "source": [
    "audio_shape = 1 * num_channels * 16000"
   ]
  },
  {
   "cell_type": "code",
   "execution_count": 107,
   "metadata": {},
   "outputs": [],
   "source": [
    "out = F.interpolate(out, size=15999, mode='linear', align_corners = False)"
   ]
  },
  {
   "cell_type": "code",
   "execution_count": 108,
   "metadata": {},
   "outputs": [
    {
     "data": {
      "text/plain": [
       "torch.Size([1, 256, 15999])"
      ]
     },
     "execution_count": 108,
     "metadata": {},
     "output_type": "execute_result"
    }
   ],
   "source": [
    "out.shape"
   ]
  },
  {
   "cell_type": "code",
   "execution_count": null,
   "metadata": {},
   "outputs": [],
   "source": []
  },
  {
   "cell_type": "code",
   "execution_count": 109,
   "metadata": {},
   "outputs": [],
   "source": [
    "ae = torch.rand(1, 256, 15999)"
   ]
  },
  {
   "cell_type": "code",
   "execution_count": null,
   "metadata": {},
   "outputs": [],
   "source": []
  },
  {
   "cell_type": "code",
   "execution_count": 111,
   "metadata": {},
   "outputs": [],
   "source": [
    "concat = torch.cat([ae, out], dim=1)"
   ]
  },
  {
   "cell_type": "code",
   "execution_count": 112,
   "metadata": {},
   "outputs": [
    {
     "data": {
      "text/plain": [
       "torch.Size([1, 512, 15999])"
      ]
     },
     "execution_count": 112,
     "metadata": {},
     "output_type": "execute_result"
    }
   ],
   "source": [
    "concat.shape"
   ]
  },
  {
   "cell_type": "code",
   "execution_count": null,
   "metadata": {},
   "outputs": [],
   "source": []
  },
  {
   "cell_type": "code",
   "execution_count": 115,
   "metadata": {},
   "outputs": [],
   "source": [
    "proj = nn.Conv1d(in_channels=512, out_channels=256, kernel_size=1)"
   ]
  },
  {
   "cell_type": "code",
   "execution_count": 116,
   "metadata": {},
   "outputs": [
    {
     "data": {
      "text/plain": [
       "torch.Size([1, 256, 15999])"
      ]
     },
     "execution_count": 116,
     "metadata": {},
     "output_type": "execute_result"
    }
   ],
   "source": [
    "proj(concat).shape"
   ]
  }
 ],
 "metadata": {
  "kernelspec": {
   "display_name": "Python 3",
   "language": "python",
   "name": "python3"
  },
  "language_info": {
   "codemirror_mode": {
    "name": "ipython",
    "version": 3
   },
   "file_extension": ".py",
   "mimetype": "text/x-python",
   "name": "python",
   "nbconvert_exporter": "python",
   "pygments_lexer": "ipython3",
   "version": "3.7.5"
  }
 },
 "nbformat": 4,
 "nbformat_minor": 4
}
